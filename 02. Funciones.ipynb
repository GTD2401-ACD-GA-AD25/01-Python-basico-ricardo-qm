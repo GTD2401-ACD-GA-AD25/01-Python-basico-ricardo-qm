{
  "cells": [
    {
      "attachments": {},
      "cell_type": "markdown",
      "metadata": {},
      "source": [
        "# Funciones\n",
        "\n",
        "En este JNB se revisará el tema de Funciones"
      ]
    },
    {
      "cell_type": "code",
      "execution_count": 5,
      "metadata": {
        "id": "O8NoTzxjs2wK",
        "outputId": "fa4bc249-a4fa-48a6-9dc6-7733646ed223"
      },
      "outputs": [],
      "source": [
        "# Define the function\n",
        "def add_three(input_var):\n",
        "    output_var = input_var + 3\n",
        "    return output_var"
      ]
    },
    {
      "cell_type": "code",
      "execution_count": 6,
      "metadata": {},
      "outputs": [
        {
          "name": "stdout",
          "output_type": "stream",
          "text": [
            "13\n"
          ]
        }
      ],
      "source": [
        "# Run the function with 10 as input\n",
        "new_number = add_three(10)\n",
        "\n",
        "# Check that the value is 13, as expected\n",
        "print(new_number)"
      ]
    },
    {
      "cell_type": "code",
      "execution_count": 7,
      "metadata": {},
      "outputs": [],
      "source": [
        "def get_pay(num_hours):\n",
        "    # Pre-tax pay, based on receiving $15/hour\n",
        "    pay_pretax = num_hours * 15\n",
        "    # After-tax pay, based on being in 12% tax bracket\n",
        "    pay_aftertax = pay_pretax * (1 - .12)\n",
        "    return pay_aftertax"
      ]
    },
    {
      "cell_type": "code",
      "execution_count": 11,
      "metadata": {},
      "outputs": [
        {
          "name": "stdout",
          "output_type": "stream",
          "text": [
            "528.0\n"
          ]
        }
      ],
      "source": [
        "# Calculate pay based on working 40 hours\n",
        "pay_fulltime = get_pay(40)\n",
        "print(pay_fulltime)"
      ]
    },
    {
      "cell_type": "code",
      "execution_count": 9,
      "metadata": {},
      "outputs": [
        {
          "ename": "NameError",
          "evalue": "name 'pay_aftertax' is not defined",
          "output_type": "error",
          "traceback": [
            "\u001b[31m---------------------------------------------------------------------------\u001b[39m",
            "\u001b[31mNameError\u001b[39m                                 Traceback (most recent call last)",
            "\u001b[36mCell\u001b[39m\u001b[36m \u001b[39m\u001b[32mIn[9]\u001b[39m\u001b[32m, line 1\u001b[39m\n\u001b[32m----> \u001b[39m\u001b[32m1\u001b[39m \u001b[38;5;28mprint\u001b[39m(\u001b[43mpay_aftertax\u001b[49m)\n",
            "\u001b[31mNameError\u001b[39m: name 'pay_aftertax' is not defined"
          ]
        }
      ],
      "source": [
        "print(pay_aftertax)"
      ]
    },
    {
      "cell_type": "code",
      "execution_count": 12,
      "metadata": {},
      "outputs": [],
      "source": [
        "def get_pay_with_more_inputs(num_hours, hourly_wage, tax_bracket):\n",
        "    # Pre-tax pay\n",
        "    pay_pretax = num_hours * hourly_wage\n",
        "    # After-tax pay\n",
        "    pay_aftertax = pay_pretax * (1 - tax_bracket)\n",
        "    return pay_aftertax"
      ]
    },
    {
      "cell_type": "code",
      "execution_count": 13,
      "metadata": {},
      "outputs": [
        {
          "name": "stdout",
          "output_type": "stream",
          "text": [
            "748.8000000000001\n"
          ]
        }
      ],
      "source": [
        "higher_pay_aftertax = get_pay_with_more_inputs(40, 24, .22)\n",
        "print(higher_pay_aftertax)"
      ]
    },
    {
      "cell_type": "code",
      "execution_count": 15,
      "metadata": {},
      "outputs": [
        {
          "name": "stdout",
          "output_type": "stream",
          "text": [
            "Hello, you!\n",
            "Good morning!\n",
            "None\n"
          ]
        }
      ],
      "source": [
        "# Define the function with no arguments and with no return\n",
        "def print_hello():\n",
        "    print(\"Hello, you!\")\n",
        "    print(\"Good morning!\")\n",
        "    \n",
        "# Call the function\n",
        "print(print_hello())"
      ]
    }
  ],
  "metadata": {
    "colab": {
      "include_colab_link": true,
      "provenance": []
    },
    "kernelspec": {
      "display_name": "base",
      "language": "python",
      "name": "python3"
    },
    "language_info": {
      "codemirror_mode": {
        "name": "ipython",
        "version": 3
      },
      "file_extension": ".py",
      "mimetype": "text/x-python",
      "name": "python",
      "nbconvert_exporter": "python",
      "pygments_lexer": "ipython3",
      "version": "3.12.3"
    },
    "orig_nbformat": 4
  },
  "nbformat": 4,
  "nbformat_minor": 0
}
